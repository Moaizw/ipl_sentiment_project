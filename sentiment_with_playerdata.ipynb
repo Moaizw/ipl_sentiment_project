{
 "cells": [
  {
   "cell_type": "code",
   "execution_count": 3,
   "metadata": {},
   "outputs": [
    {
     "name": "stdout",
     "output_type": "stream",
     "text": [
      "✅ Fuzzy player matching done! Saved to 'sentiment_with_players_fuzzy.csv'\n",
      "                                        cleaned_text final_sentiment  \\\n",
      "0  in an lbw it is either hitting the stumps or n...         neutral   \n",
      "1  like rinku ashutosh shashank sharukh khan nama...         neutral   \n",
      "2  kkr released gill for venky and gill scored 90...        positive   \n",
      "3  i have not seen his performance in half of the...        negative   \n",
      "4  what happened today tewatia duck so he is proa...         neutral   \n",
      "5  why did kkr management let go of indias ct2025...        positive   \n",
      "6  kishan v iyer pant maxwell livingstone and jfm...         neutral   \n",
      "7  vs kkrcomparing with other teams looks bit shy...         neutral   \n",
      "8  this post contains content not supported on ol...         neutral   \n",
      "9  from the article the season for chennai super ...         neutral   \n",
      "\n",
      "                                   mentioned_players  \n",
      "0                                               [om]  \n",
      "1              [shahrukh khan, naman dhir, shashank]  \n",
      "2                                               None  \n",
      "3                                          [om, som]  \n",
      "4                                               [om]  \n",
      "5        [venkatesh m, shreyas iyer, venkatesh iyer]  \n",
      "6                           [om, ishan, rohit, rohi]  \n",
      "7                                          [om, som]  \n",
      "8                                               None  \n",
      "9  [rishabh pant, om, som, ajay singh, shreyas iy...  \n"
     ]
    }
   ],
   "source": [
    "import pandas as pd\n",
    "from rapidfuzz import fuzz, process\n",
    "\n",
    "# === Load files ===\n",
    "sentiment_df = pd.read_csv(\"sentiment_results.csv\")\n",
    "players_df = pd.read_csv(\"player_data.csv\")\n",
    "\n",
    "# === Clean player list ===\n",
    "player_list = players_df['player'].dropna().str.lower().str.strip().unique()\n",
    "\n",
    "# === Preprocess cleaned text ===\n",
    "sentiment_df['cleaned_text'] = sentiment_df['cleaned_text'].astype(str).str.lower()\n",
    "\n",
    "# === ✅ Fuzzy Matching Function (insert it here) ===\n",
    "def fuzzy_match_players(text, player_list, threshold=90):\n",
    "    matched = []\n",
    "    for match, score, _ in process.extract(text, player_list, scorer=fuzz.partial_ratio, limit=10):\n",
    "        if score >= threshold:\n",
    "            matched.append(match)\n",
    "    return list(set(matched)) if matched else None\n",
    "\n",
    "# === Apply fuzzy matching to each row ===\n",
    "sentiment_df['mentioned_players'] = sentiment_df['cleaned_text'].apply(\n",
    "    lambda x: fuzzy_match_players(x, player_list)\n",
    ")\n",
    "\n",
    "# === Save enriched output ===\n",
    "sentiment_df.to_csv(\"sentiment_with_players_fuzzy.csv\", index=False)\n",
    "print(\"✅ Fuzzy player matching done! Saved to 'sentiment_with_players_fuzzy.csv'\")\n",
    "\n",
    "# === Preview sample rows ===\n",
    "print(sentiment_df[['cleaned_text', 'final_sentiment', 'mentioned_players']].head(10))\n"
   ]
  }
 ],
 "metadata": {
  "kernelspec": {
   "display_name": "Python (base)",
   "language": "python",
   "name": "base"
  },
  "language_info": {
   "codemirror_mode": {
    "name": "ipython",
    "version": 3
   },
   "file_extension": ".py",
   "mimetype": "text/x-python",
   "name": "python",
   "nbconvert_exporter": "python",
   "pygments_lexer": "ipython3",
   "version": "3.12.2"
  }
 },
 "nbformat": 4,
 "nbformat_minor": 2
}
