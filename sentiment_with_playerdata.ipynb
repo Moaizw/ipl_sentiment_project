{
 "cells": [
  {
   "cell_type": "code",
   "execution_count": null,
   "metadata": {},
   "outputs": [
    {
     "name": "stdout",
     "output_type": "stream",
     "text": [
      "✅ Fuzzy matching + competition info saved to 'sentiment_with_players_fuzzy.csv'\n",
      "                                        cleaned_text final_sentiment  \\\n",
      "0  in an lbw it is either hitting the stumps or n...         neutral   \n",
      "1  like rinku ashutosh shashank sharukh khan nama...         neutral   \n",
      "2  like rinku ashutosh shashank sharukh khan nama...         neutral   \n",
      "3  like rinku ashutosh shashank sharukh khan nama...         neutral   \n",
      "4  i have not seen his performance in half of the...        negative   \n",
      "5  i have not seen his performance in half of the...        negative   \n",
      "6  i have not seen his performance in half of the...        negative   \n",
      "7  what happened today tewatia duck so he is proa...         neutral   \n",
      "8  why did kkr management let go of indias ct2025...        positive   \n",
      "9  why did kkr management let go of indias ct2025...        positive   \n",
      "\n",
      "  mentioned_players              Competition  \n",
      "0                om           col_c_k_nayudu  \n",
      "1          shashank           col_c_k_nayudu  \n",
      "2        naman dhir             ranji_trophy  \n",
      "3        naman dhir  syed_mushtaq_ali_trophy  \n",
      "4                om           col_c_k_nayudu  \n",
      "5               som             ranji_trophy  \n",
      "6               som  syed_mushtaq_ali_trophy  \n",
      "7                om           col_c_k_nayudu  \n",
      "8    venkatesh iyer             ranji_trophy  \n",
      "9    venkatesh iyer  syed_mushtaq_ali_trophy  \n"
     ]
    }
   ],
   "source": [
    "import pandas as pd\n",
    "from rapidfuzz import fuzz, process\n",
    "\n",
    "# Load data\n",
    "sentiment_df = pd.read_csv(\"sentiment_results.csv\")\n",
    "players_df = pd.read_csv(\"player_data.csv\")\n",
    "\n",
    "# Prepare player list\n",
    "players_df['player_cleaned'] = players_df['player'].str.lower().str.strip()\n",
    "player_list = players_df['player_cleaned'].dropna().unique()\n",
    "\n",
    "sentiment_df['cleaned_text'] = sentiment_df['cleaned_text'].astype(str).str.lower()\n",
    "\n",
    "# Fuzzy matching function\n",
    "def fuzzy_match_players(text, player_list, threshold=93):\n",
    "    matched = []\n",
    "    for match, score, _ in process.extract(text, player_list, scorer=fuzz.partial_ratio, limit=10):\n",
    "        if score >= threshold:\n",
    "            matched.append(match)\n",
    "    return list(set(matched)) if matched else None\n",
    "\n",
    "# Apply fuzzy matching\n",
    "sentiment_df['mentioned_players'] = sentiment_df['cleaned_text'].apply(\n",
    "    lambda x: fuzzy_match_players(x, player_list)\n",
    ")\n",
    "\n",
    "# Explode to individual player rows\n",
    "exploded_df = sentiment_df.explode('mentioned_players')\n",
    "exploded_df = exploded_df.dropna(subset=['mentioned_players'])\n",
    "\n",
    "# Merge competition info\n",
    "merged_df = exploded_df.merge(\n",
    "    players_df[['player_cleaned', 'comp', 'team']],\n",
    "    left_on='mentioned_players',\n",
    "    right_on='player_cleaned',\n",
    "    how='left'\n",
    ").rename(columns={'comp': 'Competition', 'team': 'Team'})\n",
    "\n",
    "# Save with player and competition info\n",
    "merged_df.to_csv(\"sentiment_with_players_fuzzy.csv\", index=False)\n",
    "print(merged_df[['cleaned_text', 'final_sentiment', 'mentioned_players', 'Competition']].head(10))\n"
   ]
  }
 ],
 "metadata": {
  "kernelspec": {
   "display_name": "Python (base)",
   "language": "python",
   "name": "base"
  },
  "language_info": {
   "codemirror_mode": {
    "name": "ipython",
    "version": 3
   },
   "file_extension": ".py",
   "mimetype": "text/x-python",
   "name": "python",
   "nbconvert_exporter": "python",
   "pygments_lexer": "ipython3",
   "version": "3.12.2"
  }
 },
 "nbformat": 4,
 "nbformat_minor": 2
}
