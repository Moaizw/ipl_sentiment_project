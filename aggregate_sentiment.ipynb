{
 "cells": [
  {
   "cell_type": "code",
   "execution_count": 1,
   "metadata": {},
   "outputs": [
    {
     "name": "stdout",
     "output_type": "stream",
     "text": [
      "✅ Aggregation complete! Saved as 'ranked_players.csv'\n",
      "final_sentiment     negative  neutral  positive  total_mentions  \\\n",
      "mentioned_players                                                 \n",
      "lucky farman khan          0        0         2               2   \n",
      "aniket pande               0        0         1               1   \n",
      "tom hope                   0        0         1               1   \n",
      "p n jadeja                 0        0         1               1   \n",
      "thankhuma                  0        0         8               8   \n",
      "arjun tendulkar            0        0         2               2   \n",
      "manthan r upadhyay         0        0         2               2   \n",
      "suryansh shedge            0        0         1               1   \n",
      "parthiv jayesh             0        0        12              12   \n",
      "ashutosh singh             0        0         1               1   \n",
      "\n",
      "final_sentiment     sentiment_score  \n",
      "mentioned_players                    \n",
      "lucky farman khan               1.0  \n",
      "aniket pande                    1.0  \n",
      "tom hope                        1.0  \n",
      "p n jadeja                      1.0  \n",
      "thankhuma                       1.0  \n",
      "arjun tendulkar                 1.0  \n",
      "manthan r upadhyay              1.0  \n",
      "suryansh shedge                 1.0  \n",
      "parthiv jayesh                  1.0  \n",
      "ashutosh singh                  1.0  \n"
     ]
    }
   ],
   "source": [
    "import pandas as pd\n",
    "\n",
    "#Load enriched data\n",
    "df = pd.read_csv(\"sentiment_with_players_fuzzy.csv\")\n",
    "\n",
    "# === Drop rows with no player matches ===\n",
    "df = df.dropna(subset=[\"mentioned_players\"])\n",
    "\n",
    "# === Convert stringified lists back to real lists (if needed) ===\n",
    "import ast\n",
    "df['mentioned_players'] = df['mentioned_players'].apply(ast.literal_eval)\n",
    "\n",
    "# === Explode rows so each player has their own row ===\n",
    "df_exploded = df.explode('mentioned_players')\n",
    "\n",
    "# === Group by player and sentiment ===\n",
    "sentiment_counts = df_exploded.groupby(['mentioned_players', 'final_sentiment']).size().unstack(fill_value=0)\n",
    "\n",
    "# === Calculate total mentions and a simple sentiment score ===\n",
    "sentiment_counts['total_mentions'] = sentiment_counts.sum(axis=1)\n",
    "sentiment_counts['sentiment_score'] = (\n",
    "    (sentiment_counts.get('positive', 0) - sentiment_counts.get('negative', 0))\n",
    "    / sentiment_counts['total_mentions']\n",
    ")\n",
    "\n",
    "# === Sort by score or mentions ===\n",
    "ranked_players = sentiment_counts.sort_values(by='sentiment_score', ascending=False)\n",
    "\n",
    "# === Save to CSV for dashboard ===\n",
    "ranked_players.to_csv(\"ranked_players.csv\")\n",
    "\n",
    "print(\"✅ Aggregation complete! Saved as 'ranked_players.csv'\")\n",
    "print(ranked_players.head(10))\n"
   ]
  }
 ],
 "metadata": {
  "kernelspec": {
   "display_name": "Python (base)",
   "language": "python",
   "name": "base"
  },
  "language_info": {
   "codemirror_mode": {
    "name": "ipython",
    "version": 3
   },
   "file_extension": ".py",
   "mimetype": "text/x-python",
   "name": "python",
   "nbconvert_exporter": "python",
   "pygments_lexer": "ipython3",
   "version": "3.12.2"
  }
 },
 "nbformat": 4,
 "nbformat_minor": 2
}
